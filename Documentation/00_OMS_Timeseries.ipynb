{
 "cells": [
  {
   "cell_type": "markdown",
   "metadata": {},
   "source": [
    "# OMS CSV data files\n",
    "----\n",
    "**Author:** [Niccolò Tubini](https://www.researchgate.net/profile/Niccolo_Tubini2) \n",
    "\n",
    "**Documentation Author:** [Niccolò Tubini](https://www.researchgate.net/profile/Niccolo_Tubini2)\n",
    "\n",
    "**To whom address questions:** \n",
    " - [Niccolò Tubini](https://www.researchgate.net/profile/Niccolo_Tubini2) \n",
    " - [GEOframe Users Group](https://groups.google.com/forum/#!forum/geoframe-components-users)\n",
    " - [GEOframe Developers Mailing List](https://groups.google.com/forum/#!forum/geoframe-components-developers)\n",
    " \n",
    "**Version:** 0.98\n",
    "\n",
    "**Keywords:** OMS3, OMS csv data file \n",
    "\n",
    "**License:** [GPL3 v3](https://www.gnu.org/licenses/gpl-3.0.en.html)\n",
    "\n",
    "## Table of Contents\n",
    "\n",
    "* [Abstract](#Abstract)\n",
    "\n",
    "* [Setup](#Setup)\n",
    "\n",
    "* [Write an OMS csv file](#Write-an-OMS-csv-file)\n",
    "\n",
    "* [Read an OMS csv file](#Read-an-OMS-csv-file)\n"
   ]
  },
  {
   "cell_type": "markdown",
   "metadata": {},
   "source": [
    "# Abstract\n",
    "\n",
    "[OMS](https://alm.engr.colostate.edu/cb/wiki/16976) can use data in [CSV](https://en.wikipedia.org/wiki/Comma-separated_values) format for tabular input and output. There are some assumptions about the [structure](https://alm.engr.colostate.edu/cb/wiki/16970) of an OMS CSV file in order to use it for data reading/writing.\n",
    "\n",
    "A table is stored as an ASCII file using the CSV standard. The file has the extension .csv. The content is stored as comma separated values. Tables may have comment lines, which start with the pound symbol # in the first column. Empty lines are allowed anywere in a table and get ignored. Tables consists of columns and rows, and optional table meta data. Columns may have a type and optional meta data. Meta data is organized as pair key, value.\n",
    "A table requires two key words, `@table` and `@header`. The `@table` keyword tags the start of a table definition, the `@header` tag starts a column definition. Both tags are case insensitive.\n",
    "\n",
    "\n",
    "A CSV file consists of three main sections:\n",
    "\n",
    "- The table header, indicated by `@Table`, followed by the name of the table. The next lines may have table level meta data, one meta data entry per line. Meta data is optional.\n",
    "- The table header is followed by the column header, indicated by the `@Header` keyword. Next to this all the column names are listed. The next lines may contain column meta data, starting with the key, followed by the values for each column (Example above shows Type and Format for the columns).\n",
    "- Data rows start with a ',' as the first character; values are comma separated.\n",
    "\n",
    "<figure>\n",
    "    <img src=\"Figures/OMS_csv_data_file.png\" width=\"800\" height=\"800/1.618\">\n",
    "    <figcaption>Fig.1 - Example of a .csv file OMS compliant. </figcaption>\n",
    "<figure>\n"
   ]
  },
  {
   "cell_type": "markdown",
   "metadata": {},
   "source": [
    "# Setup\n",
    "- install the package `gf-group` x.y.z with `pip install gf-group x.y.x`\n",
    "- create a [Conda environment](https://docs.conda.io/projects/conda/en/latest/user-guide/tasks/manage-environments.html) with [geoframe_vicenza.yaml](https://github.com/geoframecomponents/python4GEOframe) file.\n",
    "    - open the Anaconda prompt \n",
    "    - set in the folder where you have geoframe_vicenza.yaml `cd folder_path`\n",
    "    - `conda env create -f geoframe_vicenza.yaml`\n",
    "    - `conda activate geoframe_vicenza`\n",
    "    \n",
    "More details on the installation can be found at\n",
    "- [for Windows users](https://geoframe.blogspot.com/2020/12/installations-of-2021-geoframe.html)\n",
    "- [for Linux users](https://geoframe.blogspot.com/2020/12/installations-of-2021-geoframe_15.html)\n",
    "- [for Mac users](https://geoframe.blogspot.com/2021/01/installations-for-mac-users.html)"
   ]
  },
  {
   "cell_type": "code",
   "execution_count": 1,
   "metadata": {},
   "outputs": [],
   "source": [
    "import os\n",
    "import pandas as pd\n",
    "from gf.io import gf_io\n",
    "\n",
    "oms_project_path = os.path.dirname(os.getcwd())"
   ]
  },
  {
   "cell_type": "markdown",
   "metadata": {},
   "source": [
    "# Write an OMS csv file\n",
    "\n",
    "The file to be formatted is `\\data\\Timeseries\\data.csv`. The formatted file is saved as `\\data\\Timeseries\\data_formatted.csv`.\n"
   ]
  },
  {
   "cell_type": "code",
   "execution_count": 3,
   "metadata": {},
   "outputs": [
    {
     "data": {
      "text/html": [
       "<div>\n",
       "<style scoped>\n",
       "    .dataframe tbody tr th:only-of-type {\n",
       "        vertical-align: middle;\n",
       "    }\n",
       "\n",
       "    .dataframe tbody tr th {\n",
       "        vertical-align: top;\n",
       "    }\n",
       "\n",
       "    .dataframe thead th {\n",
       "        text-align: right;\n",
       "    }\n",
       "</style>\n",
       "<table border=\"1\" class=\"dataframe\">\n",
       "  <thead>\n",
       "    <tr style=\"text-align: right;\">\n",
       "      <th></th>\n",
       "      <th>Unnamed: 0</th>\n",
       "      <th>0</th>\n",
       "      <th>1</th>\n",
       "      <th>2</th>\n",
       "      <th>3</th>\n",
       "      <th>4</th>\n",
       "      <th>5</th>\n",
       "      <th>6</th>\n",
       "      <th>7</th>\n",
       "    </tr>\n",
       "  </thead>\n",
       "  <tbody>\n",
       "    <tr>\n",
       "      <td>0</td>\n",
       "      <td>NaN</td>\n",
       "      <td>0.0</td>\n",
       "      <td>0.0</td>\n",
       "      <td>0.0</td>\n",
       "      <td>0.0</td>\n",
       "      <td>0.0</td>\n",
       "      <td>0.0</td>\n",
       "      <td>0.0</td>\n",
       "      <td>0.0</td>\n",
       "    </tr>\n",
       "    <tr>\n",
       "      <td>1</td>\n",
       "      <td>NaN</td>\n",
       "      <td>0.0</td>\n",
       "      <td>0.0</td>\n",
       "      <td>0.0</td>\n",
       "      <td>0.0</td>\n",
       "      <td>0.0</td>\n",
       "      <td>0.0</td>\n",
       "      <td>0.0</td>\n",
       "      <td>0.0</td>\n",
       "    </tr>\n",
       "    <tr>\n",
       "      <td>2</td>\n",
       "      <td>NaN</td>\n",
       "      <td>0.0</td>\n",
       "      <td>0.0</td>\n",
       "      <td>0.0</td>\n",
       "      <td>0.0</td>\n",
       "      <td>0.0</td>\n",
       "      <td>0.0</td>\n",
       "      <td>0.0</td>\n",
       "      <td>0.0</td>\n",
       "    </tr>\n",
       "    <tr>\n",
       "      <td>3</td>\n",
       "      <td>NaN</td>\n",
       "      <td>0.0</td>\n",
       "      <td>0.0</td>\n",
       "      <td>0.0</td>\n",
       "      <td>0.0</td>\n",
       "      <td>-9999.0</td>\n",
       "      <td>0.0</td>\n",
       "      <td>0.0</td>\n",
       "      <td>0.0</td>\n",
       "    </tr>\n",
       "    <tr>\n",
       "      <td>4</td>\n",
       "      <td>NaN</td>\n",
       "      <td>0.0</td>\n",
       "      <td>0.0</td>\n",
       "      <td>0.0</td>\n",
       "      <td>0.0</td>\n",
       "      <td>0.0</td>\n",
       "      <td>0.0</td>\n",
       "      <td>0.0</td>\n",
       "      <td>0.0</td>\n",
       "    </tr>\n",
       "  </tbody>\n",
       "</table>\n",
       "</div>"
      ],
      "text/plain": [
       "   Unnamed: 0    0    1    2    3       4    5    6    7\n",
       "0         NaN  0.0  0.0  0.0  0.0     0.0  0.0  0.0  0.0\n",
       "1         NaN  0.0  0.0  0.0  0.0     0.0  0.0  0.0  0.0\n",
       "2         NaN  0.0  0.0  0.0  0.0     0.0  0.0  0.0  0.0\n",
       "3         NaN  0.0  0.0  0.0  0.0 -9999.0  0.0  0.0  0.0\n",
       "4         NaN  0.0  0.0  0.0  0.0     0.0  0.0  0.0  0.0"
      ]
     },
     "execution_count": 3,
     "metadata": {},
     "output_type": "execute_result"
    }
   ],
   "source": [
    "df = pd.read_csv(oms_project_path+'\\data\\Timeseries\\data.csv')\n",
    "df.head()"
   ]
  },
  {
   "cell_type": "markdown",
   "metadata": {},
   "source": [
    "The first column may contain the dates, it is not mandatory as in this example. The headers `0`, `1`, `2`, `3`, `4`, `5`, `6`, `7` are the ID of the meteo stations. "
   ]
  },
  {
   "cell_type": "code",
   "execution_count": 4,
   "metadata": {},
   "outputs": [
    {
     "name": "stdout",
     "output_type": "stream",
     "text": [
      "Help on function write_OMS_timeseries in module gf.io.gf_io:\n",
      "\n",
      "write_OMS_timeseries(df, start_date, frequency, file_name)\n",
      "    Save a timeseries dataframe to .csv file with OMS format\n",
      "    \n",
      "    :param df: dataframe containing the timeseries. Each column correspond to a station/centroid and the \n",
      "    the header contains the ID of the station/centroid.\n",
      "    :type df: pandas.dataframe\n",
      "    \n",
      "    :param start_date: start date of the timeseries. 'mm-dd-yyyy hh:mm'.\n",
      "    :type start_date: str\n",
      "    \n",
      "    :param frequency: frequency of the timeseries. 'H': hourly, 'D': daily\n",
      "    :type frequency: str\n",
      "    \n",
      "    :param file_name: output file name.\n",
      "    :type file_name: str\n",
      "    \n",
      "    @author: Niccolò Tubini\n",
      "    \n",
      "    Notes:\n",
      "    2021-01-09 changed pd.date_range with pd.period_range \n",
      "    https://stackoverflow.com/questions/50265288/how-to-work-around-python-pandas-dataframes-out-of-bounds-nanosecond-timestamp\n",
      "\n"
     ]
    }
   ],
   "source": [
    "help(gf_io.write_OMS_timeseries)"
   ]
  },
  {
   "cell_type": "code",
   "execution_count": 5,
   "metadata": {},
   "outputs": [
    {
     "name": "stdout",
     "output_type": "stream",
     "text": [
      "\n",
      "\n",
      "***SUCCESS writing!  C:\\Users\\Niccolo\\OMS\\OMS_Project_WHETGEO1D\\data\\Timeseries\\data_formatted.csv\n"
     ]
    }
   ],
   "source": [
    "gf_io.write_OMS_timeseries(df.iloc[:,1:], '01-01-2021 00:00', 'H', oms_project_path+'\\data\\Timeseries\\data_formatted.csv')"
   ]
  },
  {
   "cell_type": "markdown",
   "metadata": {},
   "source": [
    "# Read an OMS csv file\n",
    "\n",
    "Read an OMS file, as an example `\\data\\Timeseries\\data_formatted.csv`."
   ]
  },
  {
   "cell_type": "code",
   "execution_count": 6,
   "metadata": {},
   "outputs": [
    {
     "name": "stdout",
     "output_type": "stream",
     "text": [
      "Help on function read_OMS_timeseries in module gf.io.gf_io:\n",
      "\n",
      "read_OMS_timeseries(file_name, nan_values)\n",
      "    Read a timeseries .csv file formatted for OMS console\n",
      "    \n",
      "    :param file_name: file name of the csv file.\n",
      "    :type file_name: string\n",
      "    \n",
      "    :param nan_value: value used for no values.\n",
      "    :type nan_value: double\n",
      "    \n",
      "    :return pandas dataframe\n",
      "    \n",
      "    @author: Niccolò Tubini\n",
      "\n"
     ]
    }
   ],
   "source": [
    "help(gf_io.read_OMS_timeseries)"
   ]
  },
  {
   "cell_type": "code",
   "execution_count": 7,
   "metadata": {},
   "outputs": [
    {
     "data": {
      "text/html": [
       "<div>\n",
       "<style scoped>\n",
       "    .dataframe tbody tr th:only-of-type {\n",
       "        vertical-align: middle;\n",
       "    }\n",
       "\n",
       "    .dataframe tbody tr th {\n",
       "        vertical-align: top;\n",
       "    }\n",
       "\n",
       "    .dataframe thead th {\n",
       "        text-align: right;\n",
       "    }\n",
       "</style>\n",
       "<table border=\"1\" class=\"dataframe\">\n",
       "  <thead>\n",
       "    <tr style=\"text-align: right;\">\n",
       "      <th></th>\n",
       "      <th>0</th>\n",
       "      <th>1</th>\n",
       "      <th>2</th>\n",
       "      <th>3</th>\n",
       "      <th>4</th>\n",
       "      <th>5</th>\n",
       "      <th>6</th>\n",
       "      <th>7</th>\n",
       "    </tr>\n",
       "    <tr>\n",
       "      <th>Datetime</th>\n",
       "      <th></th>\n",
       "      <th></th>\n",
       "      <th></th>\n",
       "      <th></th>\n",
       "      <th></th>\n",
       "      <th></th>\n",
       "      <th></th>\n",
       "      <th></th>\n",
       "    </tr>\n",
       "  </thead>\n",
       "  <tbody>\n",
       "    <tr>\n",
       "      <td>2021-01-01 00:00</td>\n",
       "      <td>0.0</td>\n",
       "      <td>0.0</td>\n",
       "      <td>0.0</td>\n",
       "      <td>0.0</td>\n",
       "      <td>0.0</td>\n",
       "      <td>0.0</td>\n",
       "      <td>0.0</td>\n",
       "      <td>0.0</td>\n",
       "    </tr>\n",
       "    <tr>\n",
       "      <td>2021-01-01 01:00</td>\n",
       "      <td>0.0</td>\n",
       "      <td>0.0</td>\n",
       "      <td>0.0</td>\n",
       "      <td>0.0</td>\n",
       "      <td>0.0</td>\n",
       "      <td>0.0</td>\n",
       "      <td>0.0</td>\n",
       "      <td>0.0</td>\n",
       "    </tr>\n",
       "    <tr>\n",
       "      <td>2021-01-01 02:00</td>\n",
       "      <td>0.0</td>\n",
       "      <td>0.0</td>\n",
       "      <td>0.0</td>\n",
       "      <td>0.0</td>\n",
       "      <td>0.0</td>\n",
       "      <td>0.0</td>\n",
       "      <td>0.0</td>\n",
       "      <td>0.0</td>\n",
       "    </tr>\n",
       "    <tr>\n",
       "      <td>2021-01-01 03:00</td>\n",
       "      <td>0.0</td>\n",
       "      <td>0.0</td>\n",
       "      <td>0.0</td>\n",
       "      <td>0.0</td>\n",
       "      <td>NaN</td>\n",
       "      <td>0.0</td>\n",
       "      <td>0.0</td>\n",
       "      <td>0.0</td>\n",
       "    </tr>\n",
       "    <tr>\n",
       "      <td>2021-01-01 04:00</td>\n",
       "      <td>0.0</td>\n",
       "      <td>0.0</td>\n",
       "      <td>0.0</td>\n",
       "      <td>0.0</td>\n",
       "      <td>0.0</td>\n",
       "      <td>0.0</td>\n",
       "      <td>0.0</td>\n",
       "      <td>0.0</td>\n",
       "    </tr>\n",
       "  </tbody>\n",
       "</table>\n",
       "</div>"
      ],
      "text/plain": [
       "                    0    1    2    3    4    5    6    7\n",
       "Datetime                                                \n",
       "2021-01-01 00:00  0.0  0.0  0.0  0.0  0.0  0.0  0.0  0.0\n",
       "2021-01-01 01:00  0.0  0.0  0.0  0.0  0.0  0.0  0.0  0.0\n",
       "2021-01-01 02:00  0.0  0.0  0.0  0.0  0.0  0.0  0.0  0.0\n",
       "2021-01-01 03:00  0.0  0.0  0.0  0.0  NaN  0.0  0.0  0.0\n",
       "2021-01-01 04:00  0.0  0.0  0.0  0.0  0.0  0.0  0.0  0.0"
      ]
     },
     "execution_count": 7,
     "metadata": {},
     "output_type": "execute_result"
    }
   ],
   "source": [
    "df = gf_io.read_OMS_timeseries(oms_project_path+'\\data\\Timeseries\\data_formatted.csv', -9999)\n",
    "df.head()"
   ]
  },
  {
   "cell_type": "code",
   "execution_count": null,
   "metadata": {},
   "outputs": [],
   "source": []
  }
 ],
 "metadata": {
  "kernelspec": {
   "display_name": "Python 3",
   "language": "python",
   "name": "python3"
  },
  "language_info": {
   "codemirror_mode": {
    "name": "ipython",
    "version": 3
   },
   "file_extension": ".py",
   "mimetype": "text/x-python",
   "name": "python",
   "nbconvert_exporter": "python",
   "pygments_lexer": "ipython3",
   "version": "3.7.7"
  }
 },
 "nbformat": 4,
 "nbformat_minor": 4
}
