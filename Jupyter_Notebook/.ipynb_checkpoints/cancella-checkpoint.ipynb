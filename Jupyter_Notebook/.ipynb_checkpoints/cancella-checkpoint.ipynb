{
 "cells": [
  {
   "cell_type": "markdown",
   "metadata": {},
   "source": [
    "# Sand box\n"
   ]
  },
  {
   "cell_type": "code",
   "execution_count": 1,
   "metadata": {},
   "outputs": [
    {
     "name": "stderr",
     "output_type": "stream",
     "text": [
      "C:\\Users\\Niccolo\\Anaconda3\\envs\\geoframe_vicenza\\lib\\site-packages\\xarray\\core\\merge.py:17: FutureWarning: The Panel class is removed from pandas. Accessing it from the top-level namespace will also be removed in the next version\n",
      "  PANDAS_TYPES = (pd.Series, pd.DataFrame, pd.Panel)\n"
     ]
    }
   ],
   "source": [
    "import os\n",
    "import pandas as pd\n",
    "import numpy as np\n",
    "# import datetime as datetime\n",
    "import matplotlib\n",
    "import matplotlib.pyplot as plt\n",
    "import matplotlib.dates as mdates\n",
    "import matplotlib.colors as cl \n",
    "from matplotlib import rc\n",
    "import matplotlib.style as style \n",
    "%matplotlib inline\n",
    "\n",
    "import math\n",
    "import xarray as xr\n",
    "\n",
    "import warnings\n",
    "warnings.filterwarnings('ignore')\n",
    "\n",
    "style.available\n",
    "style.use('seaborn-whitegrid')\n",
    "\n",
    "nice_fonts = {\n",
    "        \"legend.frameon\": True,\n",
    "        \"legend.fancybox\": True,\n",
    "        \"legend.facecolor\": \"white\",\n",
    "        \"axes.edgecolor\": \"0.8\",\n",
    "        \"axes.linewidth\": 0.6,\n",
    "        \"grid.linewidth\":0.4,\n",
    "        # Use LaTeX to write all text\n",
    "        \"text.usetex\": True,\n",
    "        \"font.family\": \"serif\",\n",
    "        # Use 10pt font in plots, to match 10pt font in document\n",
    "        \"axes.labelsize\": 12,\n",
    "        \"font.size\": 12,\n",
    "        # Make the legend/label fonts a little smaller\n",
    "        \"legend.fontsize\": 10,\n",
    "        \"xtick.labelsize\": 10,\n",
    "        \"ytick.labelsize\": 10,\n",
    "}\n",
    "\n",
    "plt.rcParams.update(nice_fonts)\n",
    "\n",
    "linewidth_n = 0.8\n",
    "linewidth_a = 0.9\n",
    "my_cmap = matplotlib.colors.LinearSegmentedColormap.from_list(\"\",['#053061', '#2166ac', '#4393c3', '#92c5de', '#f7f7f7',  '#f4a582', '#d6604d', '#b2182b', '#67001f'])\n",
    "project_path = os.path.dirname(os.getcwd())"
   ]
  },
  {
   "cell_type": "markdown",
   "metadata": {},
   "source": [
    "### OMS output"
   ]
  },
  {
   "cell_type": "code",
   "execution_count": 15,
   "metadata": {},
   "outputs": [],
   "source": [
    "os.chdir(project_path+'/output')\n",
    "o = xr.open_dataset(\"Sim_heat_advection_diffusion_OMS1_0000.nc\")"
   ]
  },
  {
   "cell_type": "markdown",
   "metadata": {},
   "source": [
    "### eclipse output"
   ]
  },
  {
   "cell_type": "code",
   "execution_count": 16,
   "metadata": {},
   "outputs": [],
   "source": [
    "os.chdir(\"C:/Users/Niccolo/eclipse-workspace/WHETGEO-1D/resources/output\")\n",
    "e = xr.open_dataset(\"Sim_heat_advection_diffusion_tmp_0000.nc\")\n"
   ]
  },
  {
   "cell_type": "code",
   "execution_count": 32,
   "metadata": {},
   "outputs": [
    {
     "data": {
      "text/plain": [
       "[<matplotlib.lines.Line2D at 0x1d1ce240d48>]"
      ]
     },
     "execution_count": 32,
     "metadata": {},
     "output_type": "execute_result"
    },
    {
     "data": {
      "image/png": "[encoded data removed]",
      "text/plain": [
       "<Figure size 432x288 with 1 Axes>"
      ]
     },
     "metadata": {},
     "output_type": "display_data"
    }
   ],
   "source": [
    "e.psi.sel(depth=-10,method='nearest').plot()\n",
    "o.psi.sel(depth=-10,method='nearest').plot()"
   ]
  },
  {
   "cell_type": "code",
   "execution_count": 38,
   "metadata": {},
   "outputs": [
    {
     "data": {
      "text/plain": [
       "[<matplotlib.lines.Line2D at 0x1d1ce4a3408>]"
      ]
     },
     "execution_count": 38,
     "metadata": {},
     "output_type": "execute_result"
    },
    {
     "data": {
      "image/png": "[encoded data removed]",
      "text/plain": [
       "<Figure size 432x288 with 1 Axes>"
      ]
     },
     "metadata": {},
     "output_type": "display_data"
    }
   ],
   "source": [
    "z = -0.1\n",
    "(e.psi.sel(depth=z,method='nearest')-o.psi.sel(depth=z,method='nearest')).plot()\n"
   ]
  },
  {
   "cell_type": "code",
   "execution_count": 19,
   "metadata": {},
   "outputs": [
    {
     "data": {
      "text/plain": [
       "-2.03510969019011"
      ]
     },
     "execution_count": 19,
     "metadata": {},
     "output_type": "execute_result"
    }
   ],
   "source": [
    "np.amin(e.psi.values-o.psi.values)"
   ]
  },
  {
   "cell_type": "code",
   "execution_count": 20,
   "metadata": {},
   "outputs": [
    {
     "data": {
      "text/plain": [
       "0.00011563793537305855"
      ]
     },
     "execution_count": 20,
     "metadata": {},
     "output_type": "execute_result"
    }
   ],
   "source": [
    "np.amax(e.psi.values-o.psi.values)"
   ]
  },
  {
   "cell_type": "code",
   "execution_count": 22,
   "metadata": {},
   "outputs": [
    {
     "data": {
      "text/plain": [
       "array([-1.33226763e-15, -2.22044605e-15,  5.10702591e-15, -2.22044605e-15,\n",
       "        1.04360964e-14, -3.99680289e-15, -8.88178420e-15,  4.44089210e-15,\n",
       "        1.17683641e-14,  1.26565425e-14,  1.66533454e-14,  1.02140518e-14,\n",
       "        1.90958360e-14,  1.46549439e-14,  1.97619698e-14,  6.66133815e-15,\n",
       "       -2.22044605e-16, -2.88657986e-15,  2.22044605e-14,  6.17284002e-14,\n",
       "        5.63993297e-14, -3.30846461e-14, -2.86437540e-14, -3.15303339e-14,\n",
       "       -4.01900735e-14,  2.02060590e-14, -1.46105350e-13,  1.09912079e-13,\n",
       "        2.71338507e-13, -1.19459997e-13, -8.43547454e-13, -4.10338430e-13,\n",
       "        1.10556009e-12, -4.69624339e-13, -2.54907206e-12,  3.52895491e-12,\n",
       "        1.63675740e-11, -1.29407596e-12, -6.10822504e-12,  5.28332933e-12,\n",
       "        1.16466836e-11,  2.35953479e-11, -3.63264974e-13, -3.67204045e-11,\n",
       "       -5.78834758e-11, -3.50417473e-11,  1.53691726e-10, -1.65445435e-10,\n",
       "       -9.19264664e-14, -5.77782266e-11,  3.26894067e-12,  2.87325719e-12,\n",
       "        4.84137175e-11, -1.50559565e-11,  5.26730215e-10, -1.99107397e-11,\n",
       "        8.23856539e-11,  4.56629845e-10, -1.48578927e-10,  1.61448632e-10,\n",
       "       -1.05737641e-10, -7.03246350e-11, -3.84218879e-10, -1.35012890e-10,\n",
       "        3.67016639e-10, -1.00837028e-09, -5.40372191e-11,  2.15389484e-10,\n",
       "       -3.70513398e-10, -1.68078884e-11,  8.45088888e-10,  1.53194790e-10,\n",
       "        2.20920171e-10, -1.66945568e-10,  5.68562974e-10,  9.81992265e-11,\n",
       "       -5.09395193e-10, -2.76512147e-09,  1.11910836e-09, -8.83614071e-10,\n",
       "       -1.46933488e-09,  1.21924693e-09,  5.64286395e-11,  4.37692194e-09,\n",
       "        3.12607984e-09, -3.28934480e-09, -1.72027690e-08,  3.87210974e-09,\n",
       "        3.03556469e-09,  1.11506493e-08, -1.08954623e-09, -1.13398624e-09,\n",
       "        3.09215764e-09, -1.61385572e-09, -1.00759134e-09,  5.64963187e-10,\n",
       "        3.69730024e-10,  7.88699772e-10,  1.07506803e-09,  2.06257678e-09,\n",
       "        9.91049021e-10, -1.46750079e-09,  1.86584970e-10, -9.48841006e-11,\n",
       "        3.92401667e-10,  9.91851934e-10,  9.66245750e-10, -2.76736856e-10,\n",
       "        9.78134018e-10,  2.63407074e-10,  7.15072446e-10,  1.05788622e-09,\n",
       "        5.35767875e-10,  1.59500768e-09, -3.49546170e-10,  1.93820071e-10,\n",
       "        1.88412130e-09,  2.59699817e-10,  5.36489964e-10, -1.39776901e-09,\n",
       "       -4.94053687e-10,  1.45207224e-09, -3.54427598e-11, -8.87460772e-10,\n",
       "        5.69432501e-10,  8.17022894e-10, -3.84973831e-10,  9.81428272e-11,\n",
       "        9.05959752e-11,  3.75816711e-10, -5.48029178e-10,  6.79465373e-11,\n",
       "       -2.87526447e-10,  4.27078817e-10, -1.51109969e-09,  8.74962325e-10,\n",
       "        4.80543605e-10,  5.02100583e-10, -9.36451805e-10,  3.47277762e-11,\n",
       "       -5.10689269e-10,  2.86881630e-11, -5.75876236e-10,  2.41584530e-11,\n",
       "        2.26485497e-11,  2.11386464e-11,  1.96287431e-11,  1.81188398e-11,\n",
       "       -1.62671654e-09,  1.50990331e-11,  1.35891298e-11,  1.35891298e-11,\n",
       "        1.20792265e-11, -1.04274367e-09,  1.05693232e-11,  9.05941988e-12,\n",
       "        9.05941988e-12,  7.54951657e-12,  7.54951657e-12,  7.54951657e-12,\n",
       "        6.03961325e-12,  6.03961325e-12, -1.28017842e-07, -5.50771387e-06,\n",
       "       -9.80275109e-07, -2.76298563e-07, -1.07127811e-07, -5.10009975e-08,\n",
       "       -2.69245438e-08, -1.50128979e-08, -8.62982530e-09, -5.04901221e-09,\n",
       "       -2.98563574e-09, -1.77735371e-09, -1.06195253e-09, -6.33104791e-10,\n",
       "       -3.70103614e-10, -2.02351136e-10,  4.40792958e-11,  1.81362703e-11,\n",
       "       -1.59052771e-11, -6.49014176e-12, -2.37343478e-12, -4.27680114e-12,\n",
       "       -4.68802774e-12, -4.31188418e-12, -4.26192415e-12, -4.30233627e-12,\n",
       "       -4.28146407e-12, -4.25293134e-12, -4.23616697e-12, -4.21984669e-12,\n",
       "       -4.20208313e-12, -4.18476365e-12, -4.16855439e-12, -4.15234513e-12,\n",
       "       -4.13680201e-12, -4.12170298e-12, -4.10693701e-12, -4.09261514e-12,\n",
       "       -4.07873735e-12, -4.06519263e-12, -4.05186995e-12, -4.03921341e-12,\n",
       "       -4.02688993e-12, -4.01512157e-12, -4.00368627e-12, -3.99213995e-12,\n",
       "       -3.98125977e-12, -3.97071265e-12, -3.96027655e-12, -3.95006250e-12,\n",
       "       -3.94018151e-12, -3.93063360e-12, -3.92141875e-12, -3.91253696e-12,\n",
       "       -3.90432131e-12, -3.89577259e-12, -3.88744592e-12, -3.87956334e-12,\n",
       "       -3.87156973e-12, -3.86402021e-12, -3.85658172e-12, -3.84969834e-12,\n",
       "       -3.84270393e-12, -3.83582055e-12, -3.82927023e-12, -3.82271992e-12,\n",
       "       -3.81650267e-12, -3.81039644e-12, -3.80440124e-12, -3.79862808e-12,\n",
       "       -3.79274390e-12, -3.78730380e-12, -3.78197473e-12, -3.77664566e-12,\n",
       "       -3.77120557e-12, -3.76620957e-12, -3.76154663e-12, -3.75643960e-12,\n",
       "       -3.75177667e-12, -3.74744680e-12, -3.74344999e-12, -3.73912012e-12,\n",
       "       -3.73490128e-12, -3.73101550e-12, -3.72724074e-12, -3.72346598e-12,\n",
       "       -3.72013531e-12, -3.71724873e-12, -3.71425113e-12, -3.71214171e-12,\n",
       "       -3.71014330e-12, -3.70858899e-12, -3.70758979e-12, -3.70692366e-12,\n",
       "       -3.70758979e-12, -3.70870001e-12, -3.71069842e-12, -3.71447317e-12,\n",
       "       -3.71980224e-12, -3.72712972e-12, -3.73734377e-12, -3.75199871e-12,\n",
       "       -3.77275988e-12, -3.80340204e-12, -3.85047549e-12, -3.92508248e-12,\n",
       "       -4.04842826e-12, -4.25748325e-12, -4.62108130e-12, -5.26290123e-12,\n",
       "       -6.41331432e-12, -8.49220694e-12, -1.22725163e-11, -1.91716643e-11,\n",
       "       -3.17874616e-11, -5.48521228e-11, -9.66526859e-11, -1.67865832e-10,\n",
       "       -2.05254591e-10, -2.50794718e-10, -3.04034908e-10, -3.66165986e-10,\n",
       "       -4.37358261e-10, -5.16950482e-10, -6.03370576e-10, -6.93987867e-10,\n",
       "       -7.85087662e-10, -8.72057648e-10, -9.49819223e-10, -1.01344921e-09,\n",
       "       -1.05886855e-09, -1.08342935e-09, -1.08625031e-09, -1.06822773e-09,\n",
       "       -1.03175046e-09, -9.80226567e-10, -9.17550036e-10, -8.47626080e-10,\n",
       "       -7.74016296e-10, -6.99725167e-10, -6.27113139e-10, -5.57900837e-10,\n",
       "       -4.93236230e-10, -4.33788228e-10, -3.79850484e-10, -3.31438432e-10,\n",
       "       -2.88374546e-10, -2.50357290e-10, -2.17022733e-10, -1.87996507e-10,\n",
       "       -1.62723612e-10, -1.39532275e-10, -8.77262707e-11, -3.31280559e-11,\n",
       "        2.90656388e-13,  1.31686884e-11,  1.25193189e-11,  7.25730587e-12,\n",
       "        2.18625118e-12, -9.05497899e-13, -2.06445971e-12, -2.11264339e-12,\n",
       "       -1.70186087e-12, -1.25643940e-12, -9.62674385e-13, -8.36997138e-13,\n",
       "       -8.27005131e-13, -8.75410855e-13, -9.37250277e-13, -9.91318139e-13,\n",
       "       -1.03184128e-12, -1.06148423e-12, -1.08524301e-12, -1.10733644e-12,\n",
       "       -1.12998499e-12, -1.15496501e-12, -1.18216548e-12, -1.21147536e-12,\n",
       "       -1.24278365e-12, -1.27586830e-12, -1.31050726e-12, -1.34636746e-12,\n",
       "       -1.38389300e-12, -1.42352796e-12, -1.46427315e-12, -1.50701673e-12,\n",
       "       -1.55186974e-12, -1.59849911e-12, -1.64745995e-12, -1.69853021e-12,\n",
       "       -1.75148784e-12, -1.80744308e-12, -1.86528570e-12, -1.92579286e-12,\n",
       "       -1.98885353e-12, -2.05435668e-12, -2.12241336e-12, -2.19324559e-12,\n",
       "       -2.26740848e-12, -2.34423592e-12, -2.42317277e-12, -2.50521826e-12,\n",
       "       -2.59015032e-12, -2.67796896e-12, -2.76834111e-12, -2.86193291e-12,\n",
       "       -2.95774516e-12, -3.05577785e-12, -3.15636406e-12, -3.25972582e-12,\n",
       "       -3.36519701e-12, -3.47311069e-12, -3.58435504e-12, -3.69970721e-12,\n",
       "       -3.82327503e-12, -3.96271904e-12, -4.13646895e-12, -4.38515890e-12,\n",
       "       -4.79760676e-12, -5.57121016e-12, -7.14228676e-12, -1.04752873e-11,\n",
       "       -1.77148296e-11, -3.37351258e-11, -6.98838765e-11, -1.01773923e-10,\n",
       "       -1.36195166e-10, -1.79719017e-10, -2.34169573e-10, -2.99636871e-10,\n",
       "       -3.74345666e-10, -4.54130289e-10, -5.32369704e-10, -6.00878791e-10,\n",
       "       -6.51724563e-10, -6.79303835e-10, -6.81725454e-10, -6.60902111e-10,\n",
       "       -6.21508844e-10, -5.69461589e-10, -5.10573139e-10, -4.49710491e-10,\n",
       "       -3.90464661e-10, -3.35179218e-10, -2.85160451e-10, -2.40944709e-10,\n",
       "       -2.02545203e-10, -1.69646963e-10, -1.41745615e-10, -1.18263177e-10,\n",
       "       -9.87856463e-11, -8.29389890e-11, -5.35845812e-11, -1.59293689e-11,\n",
       "        6.31517061e-12,  1.18212107e-11,  7.77777842e-12,  1.10012000e-12,\n",
       "       -3.47277762e-12, -5.16531262e-12, -4.90607555e-12, -3.91087163e-12,\n",
       "       -3.05766523e-12, -2.67275091e-12, -2.68052247e-12, -2.89879232e-12,\n",
       "       -3.16680016e-12, -3.40349970e-12, -3.60378394e-12, -3.80173670e-12,\n",
       "       -4.04376532e-12, -4.37894165e-12, -4.85711471e-12, -5.53745938e-12,\n",
       "       -6.49891252e-12, -7.85449483e-12, -9.76463355e-12, -1.24531496e-11,\n",
       "       -1.62312386e-11, -2.15161222e-11, -2.88609137e-11, -3.89983601e-11,\n",
       "       -5.28389554e-11, -5.86191096e-11, -6.31926733e-11, -6.75871581e-11,\n",
       "       -7.19025950e-11, -7.60373986e-11, -7.98719979e-11, -8.32892644e-11,\n",
       "       -8.61801741e-11, -8.84515794e-11, -9.00326480e-11, -9.08794151e-11,\n",
       "       -9.09767817e-11, -9.03390696e-11, -8.90079122e-11, -8.70477024e-11,\n",
       "       -8.45398196e-11, -8.15775225e-11, -7.82592879e-11, -7.46835926e-11,\n",
       "       -7.09460268e-11, -6.71365186e-11, -6.33393338e-11, -5.96196426e-11,\n",
       "       -5.59530200e-11, -5.20437027e-11, -4.22197832e-11, -3.04296588e-11,\n",
       "       -1.93542959e-11, -1.05604414e-11, -4.52415883e-12, -8.78963569e-13,\n",
       "        1.00663922e-12,  1.65001346e-12,  1.57318603e-12,  1.13031806e-12,\n",
       "        5.44453371e-13, -4.39648318e-14, -5.61883873e-13, -9.86433157e-13,\n",
       "       -1.31372691e-12, -1.55375712e-12, -1.72240000e-12, -1.83586479e-12,\n",
       "       -1.90836236e-12, -1.95221617e-12, -1.97697414e-12, -1.99085193e-12,\n",
       "       -1.99906758e-12, -2.00517380e-12, -2.01250128e-12, -2.02216022e-12,\n",
       "       -2.03503880e-12, -2.05180317e-12, -2.07245332e-12, -2.09765538e-12,\n",
       "       -2.12607709e-12, -2.15916174e-12, -2.19591012e-12, -2.23665531e-12,\n",
       "       -2.28095320e-12, -2.32891484e-12, -2.38098430e-12, -2.43716158e-12,\n",
       "       -2.49722465e-12, -2.56206167e-12, -2.63122857e-12, -2.70528044e-12,\n",
       "       -2.78466139e-12, -2.86948243e-12, -2.96029867e-12, -3.05755421e-12,\n",
       "       -3.16191517e-12, -3.27393668e-12, -3.39384076e-12, -3.52262663e-12,\n",
       "       -3.66073838e-12, -3.80873111e-12, -3.96815913e-12, -4.13913348e-12,\n",
       "       -4.32243130e-12, -4.52016202e-12, -4.73265871e-12, -4.96058750e-12,\n",
       "       -5.20594678e-12, -5.46962475e-12, -5.75328674e-12, -6.05793193e-12,\n",
       "       -6.38544773e-12, -6.73738842e-12, -7.11586345e-12, -7.52353735e-12,\n",
       "       -7.96285260e-12, -8.43647374e-12, -8.94817553e-12, -9.50350909e-12,\n",
       "       -1.01080255e-11, -1.07718279e-11, -1.15083498e-11, -1.23379085e-11,\n",
       "       -1.32915901e-11, -1.44187995e-11, -1.57956981e-11, -1.75429671e-11,\n",
       "       -1.98540073e-11, -2.30323538e-11, -2.75587331e-11, -3.41887629e-11,\n",
       "       -4.41016113e-11, -5.91374727e-11, -8.22963919e-11, -1.19835031e-10,\n",
       "       -1.96058503e-10, -4.69991934e-10, -1.31163991e-09, -3.19897575e-09,\n",
       "       -3.80731502e-09, -2.67832079e-09, -1.66143654e-09, -1.02057773e-09,\n",
       "       -6.34095776e-10, -3.98105438e-10, -2.49176013e-10, -1.49402823e-10,\n",
       "       -7.66404717e-11,  4.83856288e-11,  6.82365275e-11,  2.19466667e-11,\n",
       "       -2.63202793e-11, -4.51100268e-11, -3.67097464e-11, -1.71896941e-11,\n",
       "       -2.87592172e-12,  1.77569071e-12,  8.44879722e-14, -3.49653639e-12,\n",
       "       -6.28275210e-12, -7.76356757e-12, -8.46045456e-12, -9.10549414e-12,\n",
       "       -1.01776365e-11, -1.18768329e-11, -1.42896805e-11, -1.74861237e-11,\n",
       "       -2.15482077e-11, -2.66209277e-11, -3.29398731e-11, -4.08064693e-11,\n",
       "       -5.05715470e-11, -6.26565466e-11, -7.76066988e-11, -9.63807922e-11,\n",
       "       -1.22061028e-10, -1.66544667e-10, -2.59559041e-10, -3.99878797e-10,\n",
       "       -3.99878797e-10])"
      ]
     },
     "execution_count": 22,
     "metadata": {},
     "output_type": "execute_result"
    }
   ],
   "source": [
    "t = 8000\n",
    "e.psi.values[t,:]-o.psi.values[t,:]"
   ]
  },
  {
   "cell_type": "code",
   "execution_count": 30,
   "metadata": {},
   "outputs": [
    {
     "data": {
      "text/plain": [
       "[<matplotlib.lines.Line2D at 0x1d1ccf6c848>]"
      ]
     },
     "execution_count": 30,
     "metadata": {},
     "output_type": "execute_result"
    },
    {
     "data": {
      "image/png": "[encoded data removed]",
      "text/plain": [
       "<Figure size 432x288 with 1 Axes>"
      ]
     },
     "metadata": {},
     "output_type": "display_data"
    }
   ],
   "source": [
    "o.errorHeat.plot()"
   ]
  },
  {
   "cell_type": "code",
   "execution_count": 31,
   "metadata": {},
   "outputs": [
    {
     "data": {
      "text/plain": [
       "[<matplotlib.lines.Line2D at 0x1d1ccf0d808>]"
      ]
     },
     "execution_count": 31,
     "metadata": {},
     "output_type": "execute_result"
    },
    {
     "data": {
      "image/png": "[encoded data removed]",
      "text/plain": [
       "<Figure size 432x288 with 1 Axes>"
      ]
     },
     "metadata": {},
     "output_type": "display_data"
    }
   ],
   "source": [
    "o.errorVolume.plot()"
   ]
  },
  {
   "cell_type": "code",
   "execution_count": null,
   "metadata": {},
   "outputs": [],
   "source": [
    "e.psi.plot(y='depth')"
   ]
  },
  {
   "cell_type": "code",
   "execution_count": null,
   "metadata": {},
   "outputs": [],
   "source": [
    "(e.T-273.15).plot(y='depth')"
   ]
  },
  {
   "cell_type": "code",
   "execution_count": null,
   "metadata": {},
   "outputs": [],
   "source": [
    "e.psi.sel(depth=0, method='nearest').plot()"
   ]
  },
  {
   "cell_type": "code",
   "execution_count": null,
   "metadata": {},
   "outputs": [],
   "source": [
    "(e.T.sel(depth=-30, method='nearest')-273.15).plot()"
   ]
  },
  {
   "cell_type": "code",
   "execution_count": null,
   "metadata": {},
   "outputs": [],
   "source": [
    "for d in e.depth.values:\n",
    "    (e.T.sel(depth=d, method='nearest')-273.15).plot()\n"
   ]
  },
  {
   "cell_type": "code",
   "execution_count": null,
   "metadata": {},
   "outputs": [],
   "source": [
    "# ax1 = (e.T.sel(depth=0, method='nearest')-273.15).plot()\n",
    "# (e.T.sel(depth=-0.05, method='nearest')-273.15).plot()\n",
    "# (e.T.sel(depth=-0.1, method='nearest')-273.15).plot()\n",
    "# (e.T.sel(depth=-0.15, method='nearest')-273.15).plot()\n",
    "# (e.T.sel(depth=-0.2, method='nearest')-273.15).plot()\n",
    "# (e.T.sel(depth=-0.25, method='nearest')-273.15).plot()\n",
    "# (e.T.sel(depth=-0.3, method='nearest')-273.15).plot()\n",
    "# (e.T.sel(depth=-0.35, method='nearest')-273.15).plot()\n",
    "# (e.T.sel(depth=-0.4, method='nearest')-273.15).plot()\n",
    "# (e.T.sel(depth=-0.45, method='nearest')-273.15).plot()\n",
    "# (e.T.sel(depth=-0.5, method='nearest')-273.15).plot()\n",
    "# (e.T.sel(depth=-0.55, method='nearest')-273.15).plot()\n",
    "# (e.T.sel(depth=-0.6, method='nearest')-273.15).plot()\n",
    "# (e.T.sel(depth=-0.65, method='nearest')-273.15).plot()\n",
    "# (e.T.sel(depth=-0.7, method='nearest')-273.15).plot()\n",
    "# (e.T.sel(depth=-0.4, method='nearest')-273.15).plot()\n",
    "# (e.T.sel(depth=-0.4, method='nearest')-273.15).plot()\n",
    "# (e.T.sel(depth=-0.4, method='nearest')-273.15).plot()\n",
    "# (e.T.sel(depth=-0.4, method='nearest')-273.15).plot()\n",
    "# (e.T.sel(depth=-0.4, method='nearest')-273.15).plot()\n",
    "# (e.T.sel(depth=-0.4, method='nearest')-273.15).plot()\n",
    "# (e.T.sel(depth=-0.4, method='nearest')-273.15).plot()\n",
    "# (e.T.sel(depth=-0.4, method='nearest')-273.15).plot()\n",
    "# (e.T.sel(depth=-0.4, method='nearest')-273.15).plot()\n",
    "# (e.T.sel(depth=-0.4, method='nearest')-273.15).plot()\n",
    "(e.T.sel(depth=-1.95, method='nearest')-273.15).plot()\n"
   ]
  },
  {
   "cell_type": "code",
   "execution_count": null,
   "metadata": {},
   "outputs": [],
   "source": [
    "(e.T.sel(depth=-0.1, method='nearest')-273.15).plot()"
   ]
  },
  {
   "cell_type": "code",
   "execution_count": null,
   "metadata": {},
   "outputs": [],
   "source": [
    "(e.T.sel(time='2003-06-02 00:00')-273.15).plot(y='depth')"
   ]
  },
  {
   "cell_type": "code",
   "execution_count": null,
   "metadata": {},
   "outputs": [],
   "source": [
    "np.amin(e.T.values)-273.15"
   ]
  },
  {
   "cell_type": "code",
   "execution_count": null,
   "metadata": {},
   "outputs": [],
   "source": [
    "np.amax(e.T.values)-273.15"
   ]
  },
  {
   "cell_type": "code",
   "execution_count": null,
   "metadata": {},
   "outputs": [],
   "source": [
    "e.H.values[1]-d.H.values[35064]"
   ]
  },
  {
   "cell_type": "code",
   "execution_count": null,
   "metadata": {},
   "outputs": [],
   "source": [
    "e.T.values[1,:]-d.T.values[35065-1,:]"
   ]
  },
  {
   "cell_type": "code",
   "execution_count": null,
   "metadata": {},
   "outputs": [],
   "source": [
    "line_w = 0.7\n",
    "marker_s = 1.3\n",
    "\n",
    "start_date = '2005-01-01 00:00'\n",
    "end_date = '2007-01-01 00:00'\n",
    "\n",
    "plot_width = 15/2.54\n",
    "fig, ax = plt.subplots(2, 1, sharex='col', gridspec_kw={'height_ratios': [1,1]}, figsize=(plot_width, plot_width/1.618)) \n",
    "\n",
    "lns1 = ax[0].plot(ds_unfrozen.time.sel(time=slice(start_date, end_date)).values, ds_unfrozen.swIn.sel(time=slice(start_date,end_date)), label='SW in', color='#a6cee3', linewidth=line_w)\n",
    "lns6 = ax[0].plot(ds_unfrozen.time.sel(time=slice(start_date, end_date)).values, ds_unfrozen.LE.sel(time=slice(start_date,end_date)), label='LE', color='#33a02c', linewidth=line_w)\n",
    "lns3 = ax[0].plot(ds_unfrozen.time.sel(time=slice(start_date, end_date)).values, ds_unfrozen.lwIn.sel(time=slice(start_date,end_date)), label='LW in', color='#fb9a99', linewidth=line_w)\n",
    "lns4 = ax[0].plot(ds_unfrozen.time.sel(time=slice(start_date, end_date)).values, ds_unfrozen.lwOut.sel(time=slice(start_date,end_date)), label='LW out', color='#e31a1c', linewidth=line_w)\n",
    "lns5 = ax[0].plot(ds_unfrozen.time.sel(time=slice(start_date, end_date)).values, ds_unfrozen.H.sel(time=slice(start_date,end_date)), label='H', color='#b2df8a', linewidth=line_w)\n",
    "lns2 = ax[0].plot(ds_unfrozen.time.sel(time=slice(start_date, end_date)).values, ds_unfrozen.swOut.sel(time=slice(start_date,end_date)), label='SW out', color='#1f78b4', linewidth=line_w)\n",
    "\n",
    "\n",
    "ax[0].set_ylabel('[W m$^{-2}$]')\n",
    "\n",
    "lns = lns1+lns2+lns3+lns4+lns5+lns6\n",
    "labs = [l.get_label() for l in lns]\n",
    "ax[0].legend(lns, labs, bbox_to_anchor=(0.85,1.45) , ncol=3)\n",
    "\n",
    "norm = matplotlib.colors.DivergingNorm(vmin=-10, vcenter=0, vmax=40)\n",
    "\n",
    "im = (ds_unfrozen.T.sel(time=slice(start_date,end_date))-273.15).where(ds_unfrozen.depth>-2, drop=True).plot(ax=ax[1], y='depth', add_colorbar=False, cmap=my_cmap, norm=norm)\n",
    "\n",
    "\n",
    "cbaxes = fig.add_axes([0.91, 0.122, 0.03, 0.35]) \n",
    "cbar = fig.colorbar(im, ax=ax,orientation=\"vertical\",fraction=0.07, pad=0.1, cax=cbaxes, label='$T$ [$^\\circ$C]',ticks=[-10,0,10,20,30,40])\n",
    "\n",
    "(ds_unfrozen.T.sel(time=slice(start_date,end_date))-273.15).where(ds_unfrozen.depth>-2, drop=True).plot.contour(ax=ax[1], levels=[0], colors='0.3', linewidths=0.5, y='depth')\n",
    "ax[1].annotate('$0$ [$^\\circ$C]', xy=('2006-01-01',-1.1), fontsize=10)\n",
    "\n",
    "\n",
    "ax[1].set_ylabel('Depth [m]')\n",
    "ax[1].set_xlabel('Time [yyyy-mm]')\n",
    "\n",
    "ax[1].xaxis.set_major_formatter(mdates.DateFormatter('%Y %m'))\n",
    "ax[1].xaxis.set_tick_params(rotation=45)\n",
    "\n",
    "plt.text( 0.9,0.8, '(a)', fontsize=10,\n",
    "             transform=ax[0].transAxes)\n",
    "plt.text( 0.9,0.1, '(b)', fontsize=10,\n",
    "             transform=ax[1].transAxes)\n",
    "\n",
    "plt.show()"
   ]
  },
  {
   "cell_type": "markdown",
   "metadata": {},
   "source": [
    "Behavioural test case of pure heat conduction in soil considering the surface energy budget. Panel (a) shows the surface energy\n",
    "fluxes driving the simulation. The external fluxes, incoming shortwave and longwave radiation, and the latent heat flux, are computed with\n",
    "existing GEOframe components. Panel (b) shows the thermal regime of the uppermost $2$ [m] of the soil column. As can be seen, during winter\n",
    "the temperature of the uppermost layer goes below $0$ [$^\\circ$C], the grey line is the $0$ [$^\\circ$C] isotherm, therefore, it is not reasonable to overlook the\n",
    "phase change of water."
   ]
  },
  {
   "cell_type": "markdown",
   "metadata": {},
   "source": [
    "## Considering the phase change of water"
   ]
  },
  {
   "cell_type": "code",
   "execution_count": null,
   "metadata": {},
   "outputs": [],
   "source": [
    "ds_frozen = xr.open_dataset(\"Sim_heatdiffusion_freezing_thawing_0000.nc\")"
   ]
  },
  {
   "cell_type": "code",
   "execution_count": null,
   "metadata": {},
   "outputs": [],
   "source": [
    "line_w = 0.7\n",
    "marker_s = 1.3\n",
    "\n",
    "start_date = '2005-01-01 00:00'\n",
    "end_date = '2007-01-01 00:00'\n",
    "\n",
    "plot_width = 15/2.54\n",
    "fig, ax = plt.subplots(2, 1, sharex='col', gridspec_kw={'height_ratios': [1,1]}, figsize=(plot_width, plot_width/1.618)) \n",
    "\n",
    "lns1 = ax[0].plot(ds_frozen.time.sel(time=slice(start_date, end_date)).values, ds_frozen.swIn.sel(time=slice(start_date,end_date)), label='SW in', color='#a6cee3', linewidth=line_w)\n",
    "lns6 = ax[0].plot(ds_frozen.time.sel(time=slice(start_date, end_date)).values, ds_frozen.LE.sel(time=slice(start_date,end_date)), label='LE', color='#33a02c', linewidth=line_w)\n",
    "lns3 = ax[0].plot(ds_frozen.time.sel(time=slice(start_date, end_date)).values, ds_frozen.lwIn.sel(time=slice(start_date,end_date)), label='LW in', color='#fb9a99', linewidth=line_w)\n",
    "lns4 = ax[0].plot(ds_frozen.time.sel(time=slice(start_date, end_date)).values, ds_frozen.lwOut.sel(time=slice(start_date,end_date)), label='LW out', color='#e31a1c', linewidth=line_w)\n",
    "lns5 = ax[0].plot(ds_frozen.time.sel(time=slice(start_date, end_date)).values, ds_frozen.H.sel(time=slice(start_date,end_date)), label='H', color='#b2df8a', linewidth=line_w)\n",
    "lns2 = ax[0].plot(ds_frozen.time.sel(time=slice(start_date, end_date)).values, ds_frozen.swOut.sel(time=slice(start_date,end_date)), label='SW out', color='#1f78b4', linewidth=line_w)\n",
    "\n",
    "\n",
    "ax[0].set_ylabel('[W m$^{-2}$]')\n",
    "\n",
    "lns = lns1+lns2+lns3+lns4+lns5+lns6\n",
    "labs = [l.get_label() for l in lns]\n",
    "ax[0].legend(lns, labs, bbox_to_anchor=(0.85,1.45) , ncol=3)\n",
    "\n",
    "norm = matplotlib.colors.DivergingNorm(vmin=-10, vcenter=0, vmax=40)\n",
    "\n",
    "im = (ds_frozen.T.sel(time=slice(start_date,end_date))-273.15).where(ds_frozen.depth>-2, drop=True).plot(ax=ax[1], y='depth', add_colorbar=False, cmap=my_cmap, norm=norm)\n",
    "\n",
    "\n",
    "cbaxes = fig.add_axes([0.91, 0.122, 0.03, 0.35]) \n",
    "cbar = fig.colorbar(im, ax=ax,orientation=\"vertical\",fraction=0.07, pad=0.1, cax=cbaxes, label='$T$ [$^\\circ$C]',ticks=[-10,0,10,20,30,40])\n",
    "\n",
    "(ds_frozen.T.sel(time=slice(start_date,end_date))-273.15).where(ds_frozen.depth>-2, drop=True).plot.contour(ax=ax[1], levels=[0], colors='0.3', linewidths=0.5, y='depth')\n",
    "ax[1].annotate('$0$ [$^\\circ$C]', xy=('2006-01-01',-1.1), fontsize=10)\n",
    "\n",
    "\n",
    "ax[1].set_ylabel('Depth [m]')\n",
    "ax[1].set_xlabel('Time [yyyy-mm]')\n",
    "\n",
    "ax[1].xaxis.set_major_formatter(mdates.DateFormatter('%Y %m'))\n",
    "ax[1].xaxis.set_tick_params(rotation=45)\n",
    "\n",
    "plt.text( 0.9,0.8, '(a)', fontsize=10,\n",
    "             transform=ax[0].transAxes)\n",
    "plt.text( 0.9,0.1, '(b)', fontsize=10,\n",
    "             transform=ax[1].transAxes)\n",
    "\n",
    "plt.show()"
   ]
  },
  {
   "cell_type": "markdown",
   "metadata": {},
   "source": [
    "Behavioural test case of the pure heat conduction in soil considering the surface energy budget and the phase change of water.\n",
    "Panel (a) shows the surface energy fluxes driving the simulation. The external fluxes, incoming shortwave and longwave radiation, and the\n",
    "latent heat flux, are computed with existing GEOframe components. Panel (b) shows the thermal regime of the uppermost $2$ [m] of the soil\n",
    "column."
   ]
  },
  {
   "cell_type": "markdown",
   "metadata": {},
   "source": [
    "## Comparison between the two simulation"
   ]
  },
  {
   "cell_type": "code",
   "execution_count": null,
   "metadata": {},
   "outputs": [],
   "source": [
    "line_w = 0.7\n",
    "\n",
    "start_date = '2005-11-01 00:00'\n",
    "end_date = '2006-04-01 00:00'\n",
    "\n",
    "plot_width = 15/2.54\n",
    "fig, ax = plt.subplots(2, 1, sharex='col', gridspec_kw={'height_ratios': [1,1]}, figsize=(plot_width, plot_width/1.618)) \n",
    "\n",
    "lns2 = ax[0].plot(ds_unfrozen.time.sel(time=slice(start_date, end_date)).values, ds_unfrozen.T.sel(time=slice(start_date,end_date)).sel(depth=-0.05,method='nearest')-273.15, label='without phase\\nchange', color='0.5', linewidth=line_w)\n",
    "lns1 = ax[0].plot(ds_frozen.time.sel(time=slice(start_date, end_date)).values, ds_frozen.T.sel(time=slice(start_date,end_date)).sel(depth=-0.05,method='nearest')-273.15, label='with phase\\nchange', color='0.1', linewidth=line_w)\n",
    "\n",
    "ax[0].set_ylabel('T [$^\\circ$C]')\n",
    "\n",
    "lns = lns1+lns2\n",
    "labs = [l.get_label() for l in lns]\n",
    "ax[0].legend(lns, labs, bbox_to_anchor=(0.8,1.45) , ncol=2)\n",
    "\n",
    "\n",
    "(ds_unfrozen.T.sel(time=slice(start_date,end_date))-273.15).where(ds_unfrozen.depth>-1, drop=True).plot.contour(ax=ax[1], levels=[0], colors='0.5', linewidths=0.7, y='depth')\n",
    "(ds_frozen.T.sel(time=slice(start_date,end_date))-273.15).where(ds_frozen.depth>-1, drop=True).plot.contour(ax=ax[1], levels=[0], colors=['0.1'], linewidths=0.7, y='depth')\n",
    "\n",
    "ax[1].set_ylabel('Zero isotherm\\nposition [m]')\n",
    "ax[1].set_xlabel('Time [yyyy-mm]')\n",
    "\n",
    "\n",
    "ax[1].xaxis.set_major_formatter(mdates.DateFormatter('%Y %m'))\n",
    "ax[1].xaxis.set_tick_params(rotation=45)\n",
    "\n",
    "plt.text( 0.9,0.1, '(a)', fontsize=10,\n",
    "             transform=ax[0].transAxes)\n",
    "plt.text( 0.9,0.1, '(b)', fontsize=10,\n",
    "             transform=ax[1].transAxes)\n",
    "\n",
    "plt.show()"
   ]
  },
  {
   "cell_type": "markdown",
   "metadata": {},
   "source": [
    "Panel (a) shows a comparison of the soil temperature at $0.05$ [m] considering the phase change of water and without. As can\n",
    "be seen, in the latter case the soil temperature reaches lower value and fluctuates more: when considering the phase change of water we\n",
    "include in the problem the latent heat of water that increase the thermal inertia of the soil. Panel (b) shows a comparison of the position of\n",
    "the zero-isotherm in the two simulation. When the phase of water is not included the zero-isotherm does deeper into the ground."
   ]
  },
  {
   "cell_type": "code",
   "execution_count": null,
   "metadata": {},
   "outputs": [],
   "source": []
  }
 ],
 "metadata": {
  "kernelspec": {
   "display_name": "Python 3",
   "language": "python",
   "name": "python3"
  },
  "language_info": {
   "codemirror_mode": {
    "name": "ipython",
    "version": 3
   },
   "file_extension": ".py",
   "mimetype": "text/x-python",
   "name": "python",
   "nbconvert_exporter": "python",
   "pygments_lexer": "ipython3",
   "version": "3.7.7"
  }
 },
 "nbformat": 4,
 "nbformat_minor": 2
}
